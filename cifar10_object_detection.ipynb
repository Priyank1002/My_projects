{
  "cells": [
    {
      "cell_type": "code",
      "execution_count": null,
      "metadata": {
        "colab": {
          "base_uri": "https://localhost:8080/"
        },
        "id": "oNLFluZeTVLo",
        "outputId": "25b2b4f1-a67c-46b8-a6aa-f6ba3308fbed"
      },
      "outputs": [
        {
          "name": "stdout",
          "output_type": "stream",
          "text": [
            "Mounted at /content/drive\n"
          ]
        }
      ],
      "source": [
        "from google.colab import drive\n",
        "drive.mount('/content/drive')"
      ]
    },
    {
      "cell_type": "code",
      "execution_count": 1,
      "metadata": {
        "id": "jClJx4IeTaYu"
      },
      "outputs": [],
      "source": [
        "import numpy as np\n",
        "import tensorflow as tf\n",
        "from tensorflow import keras\n",
        "from tensorflow.keras import layers\n",
        "from tensorflow.keras import utils\n",
        "import pandas as pd\n",
        "import matplotlib.pyplot as plt\n",
        "from keras.datasets import cifar10"
      ]
    },
    {
      "cell_type": "code",
      "execution_count": 2,
      "metadata": {
        "id": "R9MJJ99ZTdck",
        "colab": {
          "base_uri": "https://localhost:8080/"
        },
        "outputId": "bc2304de-0666-4174-e578-342a511c209a"
      },
      "outputs": [
        {
          "output_type": "stream",
          "name": "stdout",
          "text": [
            "Downloading data from https://www.cs.toronto.edu/~kriz/cifar-10-python.tar.gz\n",
            "170498071/170498071 [==============================] - 4s 0us/step\n"
          ]
        }
      ],
      "source": [
        "num_classes = 10\n",
        "input_shape = (32, 32, 3)\n",
        "(x_train, y_train), (x_test, y_test) = keras.datasets.cifar10.load_data()"
      ]
    },
    {
      "cell_type": "code",
      "execution_count": 3,
      "metadata": {
        "colab": {
          "base_uri": "https://localhost:8080/"
        },
        "id": "TC41tMH-Zj0l",
        "outputId": "b3cb4a30-74a4-49f3-8fee-f19061f68858"
      },
      "outputs": [
        {
          "output_type": "stream",
          "name": "stdout",
          "text": [
            "(50000, 32, 32, 3) (10000, 32, 32, 3)\n"
          ]
        }
      ],
      "source": [
        "print(x_train.shape,x_test.shape)"
      ]
    },
    {
      "cell_type": "code",
      "execution_count": 4,
      "metadata": {
        "id": "c38LFzsEabIr"
      },
      "outputs": [],
      "source": [
        "plt.imshow?"
      ]
    },
    {
      "cell_type": "code",
      "execution_count": 5,
      "metadata": {
        "colab": {
          "base_uri": "https://localhost:8080/",
          "height": 430
        },
        "id": "UTf--DPUZu7m",
        "outputId": "e9eddc00-8ddd-48ca-fa5d-c2e27932825d"
      },
      "outputs": [
        {
          "output_type": "display_data",
          "data": {
            "text/plain": [
              "<Figure size 640x480 with 1 Axes>"
            ],
            "image/png": "[encoded data removed]"
          },
          "metadata": {}
        }
      ],
      "source": [
        "test = x_train[1300]\n",
        "plt.imshow(test)\n",
        "plt.show()"
      ]
    },
    {
      "cell_type": "code",
      "execution_count": 6,
      "metadata": {
        "id": "gi1gqBPlZ4Vy"
      },
      "outputs": [],
      "source": [
        "x_train = x_train.astype(\"float32\")/255\n",
        "x_test = x_test.astype(\"float32\")/255\n"
      ]
    },
    {
      "cell_type": "code",
      "execution_count": 7,
      "metadata": {
        "colab": {
          "base_uri": "https://localhost:8080/"
        },
        "id": "GnlAU8s6a5De",
        "outputId": "b833984f-3fa4-4d1e-d906-392a926bedfd"
      },
      "outputs": [
        {
          "output_type": "stream",
          "name": "stdout",
          "text": [
            "x_train shape:  (50000, 32, 32, 3)\n",
            "50000  - Train samples\n",
            "10000  - Test samples\n"
          ]
        }
      ],
      "source": [
        "print(\"x_train shape: \", x_train.shape)\n",
        "print(x_train.shape[0], \" - Train samples\")\n",
        "print(x_test.shape[0], \" - Test samples\")"
      ]
    },
    {
      "cell_type": "code",
      "execution_count": null,
      "metadata": {
        "id": "q-838liGa_1q"
      },
      "outputs": [],
      "source": [
        "print(y_train)"
      ]
    },
    {
      "cell_type": "code",
      "execution_count": 9,
      "metadata": {
        "id": "ZLPtrwqSbQW6"
      },
      "outputs": [],
      "source": [
        "y_train = keras.utils.to_categorical(y_train, num_classes)\n",
        "y_test = keras.utils.to_categorical(y_test, num_classes)"
      ]
    },
    {
      "cell_type": "code",
      "execution_count": 10,
      "metadata": {
        "colab": {
          "base_uri": "https://localhost:8080/"
        },
        "id": "QKrtFH8eblCv",
        "outputId": "1ac6bc9c-521f-44ec-d290-a7e6243310d9"
      },
      "outputs": [
        {
          "output_type": "execute_result",
          "data": {
            "text/plain": [
              "array([0., 0., 0., 0., 1., 0., 0., 0., 0., 0.], dtype=float32)"
            ]
          },
          "metadata": {},
          "execution_count": 10
        }
      ],
      "source": [
        "y_train[10]"
      ]
    },
    {
      "cell_type": "code",
      "execution_count": 13,
      "metadata": {
        "id": "tfDTjxF2btAm"
      },
      "outputs": [],
      "source": [
        "model = keras.Sequential(\n",
        "    [\n",
        "     keras.Input(shape = input_shape),\n",
        "     layers.Conv2D(32, kernel_size=(3,3), activation = \"relu\"),\n",
        "     layers.MaxPooling2D(pool_size = (2, 2)),\n",
        "     layers.Conv2D(64, kernel_size=(3,3), activation = \"relu\"),\n",
        "     layers.MaxPooling2D(pool_size = (2, 2)),\n",
        "     layers.Conv2D(512, kernel_size=(3,3), activation = \"relu\"),\n",
        "     layers.MaxPooling2D(pool_size = (2, 2)),\n",
        "     layers.Flatten(),\n",
        "     layers.Dropout(0.5),\n",
        "     layers.Dense(num_classes, activation=\"softmax\")\n",
        "    ]\n",
        ")"
      ]
    },
    {
      "cell_type": "code",
      "execution_count": 14,
      "metadata": {
        "colab": {
          "base_uri": "https://localhost:8080/"
        },
        "id": "fW_7aQmZb8Ae",
        "outputId": "2226a52b-09fd-4ebe-91b2-2064becebf78"
      },
      "outputs": [
        {
          "output_type": "stream",
          "name": "stdout",
          "text": [
            "Model: \"sequential_2\"\n",
            "_________________________________________________________________\n",
            " Layer (type)                Output Shape              Param #   \n",
            "=================================================================\n",
            " conv2d_8 (Conv2D)           (None, 30, 30, 32)        896       \n",
            "                                                                 \n",
            " max_pooling2d_8 (MaxPooling  (None, 15, 15, 32)       0         \n",
            " 2D)                                                             \n",
            "                                                                 \n",
            " conv2d_9 (Conv2D)           (None, 13, 13, 64)        18496     \n",
            "                                                                 \n",
            " max_pooling2d_9 (MaxPooling  (None, 6, 6, 64)         0         \n",
            " 2D)                                                             \n",
            "                                                                 \n",
            " conv2d_10 (Conv2D)          (None, 4, 4, 512)         295424    \n",
            "                                                                 \n",
            " max_pooling2d_10 (MaxPoolin  (None, 2, 2, 512)        0         \n",
            " g2D)                                                            \n",
            "                                                                 \n",
            " flatten_2 (Flatten)         (None, 2048)              0         \n",
            "                                                                 \n",
            " dropout_2 (Dropout)         (None, 2048)              0         \n",
            "                                                                 \n",
            " dense_2 (Dense)             (None, 10)                20490     \n",
            "                                                                 \n",
            "=================================================================\n",
            "Total params: 335,306\n",
            "Trainable params: 335,306\n",
            "Non-trainable params: 0\n",
            "_________________________________________________________________\n"
          ]
        }
      ],
      "source": [
        "model.summary()"
      ]
    },
    {
      "cell_type": "code",
      "execution_count": 15,
      "metadata": {
        "id": "GEobdNJTcLLU"
      },
      "outputs": [],
      "source": [
        "batch_size = 128\n",
        "epochs = 20"
      ]
    },
    {
      "cell_type": "code",
      "execution_count": 16,
      "metadata": {
        "id": "aR_l1J9IcO4l"
      },
      "outputs": [],
      "source": [
        "model.compile(loss=\"categorical_crossentropy\", optimizer=\"adam\", metrics=[\"accuracy\"])"
      ]
    },
    {
      "cell_type": "code",
      "execution_count": 17,
      "metadata": {
        "colab": {
          "base_uri": "https://localhost:8080/"
        },
        "id": "lKIcm-OGcRjT",
        "outputId": "b9bfee9d-d62f-449c-faa1-6ef42e52a510"
      },
      "outputs": [
        {
          "output_type": "stream",
          "name": "stdout",
          "text": [
            "Epoch 1/20\n",
            "352/352 [==============================] - 16s 10ms/step - loss: 1.6786 - accuracy: 0.3868 - val_loss: 1.3841 - val_accuracy: 0.4966\n",
            "Epoch 2/20\n",
            "352/352 [==============================] - 3s 8ms/step - loss: 1.3343 - accuracy: 0.5251 - val_loss: 1.2439 - val_accuracy: 0.5498\n",
            "Epoch 3/20\n",
            "352/352 [==============================] - 2s 7ms/step - loss: 1.1761 - accuracy: 0.5845 - val_loss: 1.0675 - val_accuracy: 0.6288\n",
            "Epoch 4/20\n",
            "352/352 [==============================] - 2s 7ms/step - loss: 1.0712 - accuracy: 0.6283 - val_loss: 0.9690 - val_accuracy: 0.6610\n",
            "Epoch 5/20\n",
            "352/352 [==============================] - 3s 7ms/step - loss: 0.9900 - accuracy: 0.6549 - val_loss: 0.9765 - val_accuracy: 0.6638\n",
            "Epoch 6/20\n",
            "352/352 [==============================] - 3s 7ms/step - loss: 0.9295 - accuracy: 0.6774 - val_loss: 0.8557 - val_accuracy: 0.7034\n",
            "Epoch 7/20\n",
            "352/352 [==============================] - 2s 7ms/step - loss: 0.8824 - accuracy: 0.6941 - val_loss: 0.8500 - val_accuracy: 0.7070\n",
            "Epoch 8/20\n",
            "352/352 [==============================] - 2s 7ms/step - loss: 0.8336 - accuracy: 0.7097 - val_loss: 0.8125 - val_accuracy: 0.7188\n",
            "Epoch 9/20\n",
            "352/352 [==============================] - 2s 7ms/step - loss: 0.8010 - accuracy: 0.7208 - val_loss: 0.7732 - val_accuracy: 0.7380\n",
            "Epoch 10/20\n",
            "352/352 [==============================] - 3s 8ms/step - loss: 0.7585 - accuracy: 0.7368 - val_loss: 0.8013 - val_accuracy: 0.7272\n",
            "Epoch 11/20\n",
            "352/352 [==============================] - 3s 7ms/step - loss: 0.7296 - accuracy: 0.7462 - val_loss: 0.7322 - val_accuracy: 0.7550\n",
            "Epoch 12/20\n",
            "352/352 [==============================] - 2s 7ms/step - loss: 0.6956 - accuracy: 0.7581 - val_loss: 0.7360 - val_accuracy: 0.7450\n",
            "Epoch 13/20\n",
            "352/352 [==============================] - 2s 7ms/step - loss: 0.6725 - accuracy: 0.7654 - val_loss: 0.7123 - val_accuracy: 0.7534\n",
            "Epoch 14/20\n",
            "352/352 [==============================] - 2s 7ms/step - loss: 0.6381 - accuracy: 0.7792 - val_loss: 0.7095 - val_accuracy: 0.7606\n",
            "Epoch 15/20\n",
            "352/352 [==============================] - 3s 8ms/step - loss: 0.6244 - accuracy: 0.7829 - val_loss: 0.6829 - val_accuracy: 0.7676\n",
            "Epoch 16/20\n",
            "352/352 [==============================] - 2s 7ms/step - loss: 0.5981 - accuracy: 0.7914 - val_loss: 0.7034 - val_accuracy: 0.7648\n",
            "Epoch 17/20\n",
            "352/352 [==============================] - 2s 7ms/step - loss: 0.5758 - accuracy: 0.7988 - val_loss: 0.6813 - val_accuracy: 0.7678\n",
            "Epoch 18/20\n",
            "352/352 [==============================] - 2s 7ms/step - loss: 0.5608 - accuracy: 0.8059 - val_loss: 0.6742 - val_accuracy: 0.7696\n",
            "Epoch 19/20\n",
            "352/352 [==============================] - 2s 7ms/step - loss: 0.5393 - accuracy: 0.8118 - val_loss: 0.6869 - val_accuracy: 0.7684\n",
            "Epoch 20/20\n",
            "352/352 [==============================] - 3s 8ms/step - loss: 0.5167 - accuracy: 0.8178 - val_loss: 0.6866 - val_accuracy: 0.7696\n"
          ]
        },
        {
          "output_type": "execute_result",
          "data": {
            "text/plain": [
              "<keras.callbacks.History at 0x7f55ec7dba00>"
            ]
          },
          "metadata": {},
          "execution_count": 17
        }
      ],
      "source": [
        "model.fit(x_train, y_train, batch_size=batch_size, epochs = epochs, validation_split=0.1)"
      ]
    },
    {
      "cell_type": "code",
      "execution_count": 18,
      "metadata": {
        "id": "kX93Qw41cUeJ",
        "colab": {
          "base_uri": "https://localhost:8080/"
        },
        "outputId": "ab039b15-14b9-4611-c281-036a3f489228"
      },
      "outputs": [
        {
          "output_type": "stream",
          "name": "stdout",
          "text": [
            "Test loss:  0.7156504392623901\n",
            "Test accuracy:  0.7584999799728394\n"
          ]
        }
      ],
      "source": [
        "score = model.evaluate(x_test, y_test, verbose=0)\n",
        "print(\"Test loss: \", score[0])\n",
        "print(\"Test accuracy: \", score[1])"
      ]
    },
    {
      "cell_type": "code",
      "source": [],
      "metadata": {
        "id": "ejr2q1UjfMZg"
      },
      "execution_count": null,
      "outputs": []
    }
  ],
  "metadata": {
    "colab": {
      "provenance": [],
      "gpuType": "T4"
    },
    "kernelspec": {
      "display_name": "Python 3",
      "name": "python3"
    },
    "language_info": {
      "name": "python"
    },
    "accelerator": "GPU"
  },
  "nbformat": 4,
  "nbformat_minor": 0
}